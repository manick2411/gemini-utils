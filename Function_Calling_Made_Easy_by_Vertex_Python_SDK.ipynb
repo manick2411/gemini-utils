{
  "nbformat": 4,
  "nbformat_minor": 0,
  "metadata": {
    "colab": {
      "provenance": [],
      "authorship_tag": "ABX9TyNDVqPB5orca7y7t8gSxmo1",
      "include_colab_link": true
    },
    "kernelspec": {
      "name": "python3",
      "display_name": "Python 3"
    },
    "language_info": {
      "name": "python"
    }
  },
  "cells": [
    {
      "cell_type": "markdown",
      "metadata": {
        "id": "view-in-github",
        "colab_type": "text"
      },
      "source": [
        "<a href=\"https://colab.research.google.com/github/manick2411/gemini-utils/blob/main/Function_Calling_Made_Easy_by_Vertex_Python_SDK.ipynb\" target=\"_parent\"><img src=\"https://colab.research.google.com/assets/colab-badge.svg\" alt=\"Open In Colab\"/></a>"
      ]
    },
    {
      "cell_type": "markdown",
      "source": [
        "# **Function Calling Made Easy by Vertex Python SDK**\n",
        "\n",
        "In this notebook, Let us explore how Vertex AI Python SDK helps in making Function Calling very easy.\n",
        "\n"
      ],
      "metadata": {
        "id": "-BcCHPqy_ni2"
      }
    },
    {
      "cell_type": "code",
      "execution_count": 59,
      "metadata": {
        "id": "-YfoMB62xbW1"
      },
      "outputs": [],
      "source": [
        "#Update Vertex AI Python SDK to latest version\n",
        "!pip3 install google-cloud-aiplatform>=1.54.0 --upgrade"
      ]
    },
    {
      "cell_type": "code",
      "source": [
        "# Restart Kernel\n",
        "import sys\n",
        "\n",
        "if \"google.colab\" in sys.modules:\n",
        "\n",
        "    import IPython\n",
        "\n",
        "    app = IPython.Application.instance()\n",
        "    app.kernel.do_shutdown(True)"
      ],
      "metadata": {
        "id": "ifk0s7jyxsjz"
      },
      "execution_count": 8,
      "outputs": []
    },
    {
      "cell_type": "markdown",
      "source": [
        "Authenticate to GCP with your credentials\n",
        "\n",
        "\n"
      ],
      "metadata": {
        "id": "uIffKWSYANM7"
      }
    },
    {
      "cell_type": "code",
      "source": [
        "import sys\n",
        "\n",
        "if \"google.colab\" in sys.modules:\n",
        "\n",
        "    from google.colab import auth\n",
        "\n",
        "    auth.authenticate_user()"
      ],
      "metadata": {
        "id": "I_IP0sGIx6o-"
      },
      "execution_count": 1,
      "outputs": []
    },
    {
      "cell_type": "markdown",
      "source": [
        "Enter the GCP Project ID and region which access to Google Gemini Models."
      ],
      "metadata": {
        "id": "QgVYQl8vAfP8"
      }
    },
    {
      "cell_type": "code",
      "source": [
        "PROJECT_ID = \"generative-ai-trials-427413\"  # @param {type:\"string\"}\n",
        "LOCATION = \"us-central1\"  # @param {type:\"string\"}\n",
        "\n",
        "\n",
        "import vertexai\n",
        "\n",
        "# Initiate Vertex AI\n",
        "vertexai.init(project=PROJECT_ID, location=LOCATION)"
      ],
      "metadata": {
        "id": "Adsv4UVEx8vy"
      },
      "execution_count": 2,
      "outputs": []
    },
    {
      "cell_type": "markdown",
      "source": [
        "Create any function which you want the Gemini to use to do some action.\n",
        "\n",
        "When Creating a function be mindful of following these steps. Its compoulsary to have these.\n",
        "1. Function must have a **doc string** which describes what the function does,what arguments are needed and what each argument is expected to be as well as what the function returns.\n",
        "2. Function declaration must have type hints.\n",
        "3. Also follow more best practices mentioned here [Function Calling Vertex Documentation](https://cloud.google.com/vertex-ai/generative-ai/docs/multimodal/function-calling#best-practices)\n",
        "Here we are giving Gemini the ability to get realtime current weather condition"
      ],
      "metadata": {
        "id": "v15SiOe_AzBX"
      }
    },
    {
      "cell_type": "code",
      "source": [
        "import requests\n",
        "from google.colab import userdata\n",
        "\n",
        "def get_current_weather_data(city:str) -> str:\n",
        "  \"\"\"\n",
        "  Gets weather in the specified location.\n",
        "  Args:\n",
        "      city: The city for which to get the weather as a str.\n",
        "  Returns:\n",
        "      Whole Weather data as a dictionary\n",
        "  \"\"\"\n",
        "  url = f\"https://api.openweathermap.org/data/2.5/weather?q={city}&appid={userdata.get('OPENWEATHER_API_KEY')}\"\n",
        "  response = requests.get(url)\n",
        "  return response.json()[\"weather\"][0][\"description\"]"
      ],
      "metadata": {
        "id": "m8GBPHPpyW-W"
      },
      "execution_count": 3,
      "outputs": []
    },
    {
      "cell_type": "markdown",
      "source": [
        "Generally in Function Calling, Most Models SDK expect the function declaration in OpenAPI format which is time consuming and not easy to construct. And another head ache is parsing the response from the model to get the arguments to be executed.\n",
        "\n",
        "This is where Vertex AI Python SDK helps developers.\n",
        "\n",
        "In the next cell, We will see how Vertex SDK makes our life a little better by converting the function to the needed structure to pass as a tool to Gemini."
      ],
      "metadata": {
        "id": "7wy8N-3pDYNN"
      }
    },
    {
      "cell_type": "code",
      "source": [
        "# Importing all the needed modules from the SDK\n",
        "from vertexai.preview.generative_models import GenerativeModel,FunctionDeclaration,Tool,AutomaticFunctionCallingResponder\n",
        "\n",
        "# Converting a python function directly to Gemini compatible Tool\n",
        "get_current_weather_func = FunctionDeclaration.from_func(get_current_weather_data)\n",
        "weather_tool = Tool(function_declarations=[get_current_weather_func],)"
      ],
      "metadata": {
        "id": "tOcUlvo44ADw"
      },
      "execution_count": 4,
      "outputs": []
    },
    {
      "cell_type": "markdown",
      "source": [
        "As mentioned earlier, The second head ache is getting the Arguments that Gemini wishes to pass and parsing it and then executing the function with the arguments and forming the execution result and passing it back to Gemini.\n",
        "\n",
        "Vertex SDK takes care of all these with the help of AutomaticFunctionCallingResponder."
      ],
      "metadata": {
        "id": "LuN2WJmIGBS1"
      }
    },
    {
      "cell_type": "code",
      "source": [
        "model = GenerativeModel(\"gemini-1.5-flash-001\",tools=[weather_tool],) # Initialize the model with model name, and tools consisting of tools that we created\n",
        "afc_responder = AutomaticFunctionCallingResponder(max_automatic_function_calls=5,) # Initialize AFC with maximum number of function calls allowed\n",
        "chat = model.start_chat(responder=afc_responder) # Initialize a Chat with AFC as responder"
      ],
      "metadata": {
        "id": "kVbgvMc05sSn"
      },
      "execution_count": 5,
      "outputs": []
    },
    {
      "cell_type": "markdown",
      "source": [
        "Send Message to Gemini which triggers it to use our function.\n",
        "\n",
        "When you run, You will just see the Output Response from Gemini. But as mentioned earlier all the Function Calling steps happen."
      ],
      "metadata": {
        "id": "grz7uRXmHJI-"
      }
    },
    {
      "cell_type": "code",
      "source": [
        "response1 = chat.send_message(\"I am from Mumbai. I am planning to go outside now. Should i carry a umbrella?\")\n",
        "print(response1.text)"
      ],
      "metadata": {
        "colab": {
          "base_uri": "https://localhost:8080/"
        },
        "id": "8UktgjM5F_W3",
        "outputId": "a308a1ad-fcb1-4b38-f857-0918e6327551"
      },
      "execution_count": 6,
      "outputs": [
        {
          "output_type": "stream",
          "name": "stdout",
          "text": [
            "It's overcast in Mumbai. You might want to carry an umbrella just in case. \n",
            "\n"
          ]
        }
      ]
    },
    {
      "cell_type": "markdown",
      "source": [
        "By getting the history of Chat, We can observe What Gemini has requested what our function returned and how Gemini interpreted it and used it to respond to end user needs."
      ],
      "metadata": {
        "id": "X612fopHHe8E"
      }
    },
    {
      "cell_type": "code",
      "source": [
        "chat.history"
      ],
      "metadata": {
        "colab": {
          "base_uri": "https://localhost:8080/"
        },
        "id": "5tCBOINK8Eh1",
        "outputId": "e3a95b28-8939-477c-c5e1-c6b95dc26c00"
      },
      "execution_count": 7,
      "outputs": [
        {
          "output_type": "execute_result",
          "data": {
            "text/plain": [
              "[role: \"user\"\n",
              " parts {\n",
              "   text: \"I am from Mumbai. I am planning to go outside now. Should i carry a umbrella?\"\n",
              " },\n",
              " role: \"model\"\n",
              " parts {\n",
              "   function_call {\n",
              "     name: \"get_current_weather_data\"\n",
              "     args {\n",
              "       fields {\n",
              "         key: \"city\"\n",
              "         value {\n",
              "           string_value: \"Mumbai\"\n",
              "         }\n",
              "       }\n",
              "     }\n",
              "   }\n",
              " },\n",
              " role: \"user\"\n",
              " parts {\n",
              "   function_response {\n",
              "     name: \"get_current_weather_data\"\n",
              "     response {\n",
              "       fields {\n",
              "         key: \"result\"\n",
              "         value {\n",
              "           string_value: \"overcast clouds\"\n",
              "         }\n",
              "       }\n",
              "     }\n",
              "   }\n",
              " },\n",
              " role: \"model\"\n",
              " parts {\n",
              "   text: \"It\\'s overcast in Mumbai. You might want to carry an umbrella just in case. \\n\"\n",
              " }]"
            ]
          },
          "metadata": {},
          "execution_count": 7
        }
      ]
    },
    {
      "cell_type": "code",
      "source": [],
      "metadata": {
        "id": "D_TjFjzy8IrN"
      },
      "execution_count": null,
      "outputs": []
    }
  ]
}